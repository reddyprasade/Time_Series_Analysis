{
 "cells": [
  {
   "cell_type": "markdown",
   "metadata": {},
   "source": [
    "##### Autoregressive Moving Average (ARMA): Artificial data"
   ]
  },
  {
   "cell_type": "code",
   "execution_count": 15,
   "metadata": {},
   "outputs": [],
   "source": [
    "import numpy as np\n",
    "import statsmodels.api as sm\n",
    "import pandas as pd\n",
    "from statsmodels.tsa.arima_process import arma_generate_sample\n",
    "np.random.seed(12345)"
   ]
  },
  {
   "cell_type": "markdown",
   "metadata": {},
   "source": [
    "Generate some data from an ARMA process:"
   ]
  },
  {
   "cell_type": "code",
   "execution_count": 28,
   "metadata": {},
   "outputs": [
    {
     "name": "stdout",
     "output_type": "stream",
     "text": [
      "[ 0.75 -0.25]\n",
      "[0.65 0.35]\n"
     ]
    }
   ],
   "source": [
    "arparams = np.array([.75, -.25])\n",
    "print(arparams)\n",
    "maparams = np.array([.65, .35])\n",
    "print(maparams)"
   ]
  },
  {
   "cell_type": "markdown",
   "metadata": {},
   "source": [
    "The conventions of the arma_generate function require that we specify a 1 for the zero-lag of the AR and MA parameters and that the AR parameters be negated."
   ]
  },
  {
   "cell_type": "code",
   "execution_count": 34,
   "metadata": {},
   "outputs": [],
   "source": [
    "arparams = np.r_[1, -arparams]\n",
    "maparams = np.r_[1, maparams]\n",
    "nobs = 250"
   ]
  },
  {
   "cell_type": "code",
   "execution_count": 35,
   "metadata": {
    "collapsed": true,
    "jupyter": {
     "outputs_hidden": true
    }
   },
   "outputs": [
    {
     "data": {
      "text/plain": [
       "array([-7.61837213e-01, -1.85529132e+00, -3.93822365e+00, -4.60354264e+00,\n",
       "       -3.18844164e+00, -2.75590831e+00, -3.79599138e+00, -3.59389074e+00,\n",
       "       -5.09273507e-01,  9.91826581e-01, -2.23471570e-01, -1.86283450e+00,\n",
       "       -9.25796103e-01,  7.77708819e-01,  1.06009600e-02, -1.13534151e+00,\n",
       "       -1.55545334e-01,  1.42173323e+00,  1.75538224e+00,  1.85792409e+00,\n",
       "        8.69525400e-01, -3.77225940e+00, -7.09829068e+00, -6.10325576e+00,\n",
       "       -2.35022690e+00, -1.51253623e+00, -9.62126333e-01,  2.66395061e+00,\n",
       "        5.34607811e+00,  3.32821473e+00,  1.42872948e+00,  1.08365701e+00,\n",
       "       -5.15337659e-01, -2.02848924e+00, -1.01124424e+00,  7.82431125e-01,\n",
       "        1.93243692e+00,  2.32374899e+00,  1.58118105e+00,  2.72009473e-01,\n",
       "       -1.73876687e+00, -3.63427059e+00, -4.43575249e+00, -4.31530256e+00,\n",
       "       -3.62991667e+00, -2.35267056e+00, -5.67402344e-01,  7.86456497e-01,\n",
       "        1.46762048e+00,  6.27109282e-01,  4.44440515e-01,  4.66654767e-01,\n",
       "       -8.08059056e-01, -3.57492064e-01,  7.19562441e-01,  1.20246263e+00,\n",
       "        1.81916573e-01,  1.75861598e+00,  3.02176850e+00,  2.76099854e+00,\n",
       "        2.51552224e+00,  4.48146014e+00,  7.38224213e+00,  8.65524314e+00,\n",
       "        8.18136156e+00,  8.43641071e+00,  6.91219556e+00,  3.53356175e+00,\n",
       "        5.26041123e-01, -2.00671525e+00, -3.75463861e+00, -4.25439306e+00,\n",
       "       -4.03871098e+00, -3.54251558e+00, -2.27904715e+00, -3.71473655e-01,\n",
       "       -5.57539014e-01, -1.83966972e+00, -1.85225444e+00, -1.55043767e+00,\n",
       "       -2.11620729e+00, -1.96441506e+00, -7.22271831e-01,  1.08935541e+00,\n",
       "        1.83456754e+00,  1.09680678e+00, -1.30901280e-01, -9.39056866e-01,\n",
       "       -2.43945481e+00, -2.79630702e+00, -9.52620924e-02,  2.86481990e+00,\n",
       "        2.68206502e+00,  3.38262797e-01, -6.83057905e-01, -7.44024525e-01,\n",
       "       -6.61719216e-01, -1.72930186e-01,  4.35538935e-01, -6.18210946e-02,\n",
       "       -1.88342670e-01, -8.83468863e-02, -7.90225965e-01, -7.03163787e-01,\n",
       "       -6.67764965e-01,  6.66198510e-01,  2.40336470e+00,  2.81516724e+00,\n",
       "        2.97875827e-02, -1.48310244e+00, -1.80428804e+00, -3.16711267e+00,\n",
       "       -4.77026310e+00, -2.77141144e+00, -8.43215636e-01, -1.92324936e+00,\n",
       "       -2.31290569e+00, -1.11017732e+00, -1.22988906e+00, -2.91440703e+00,\n",
       "       -2.86579302e+00, -1.38770569e+00, -1.54823644e+00, -1.61379724e+00,\n",
       "       -2.90768565e-01,  1.63472647e+00,  4.03836561e+00,  5.61348007e+00,\n",
       "        3.93257187e+00,  1.97806223e+00,  1.44050484e+00,  9.53641107e-01,\n",
       "        2.62130033e-03,  1.06698172e+00,  2.12944214e+00,  2.96125684e+00,\n",
       "        4.19511321e+00,  4.67863108e+00,  3.79967782e+00,  3.14589446e+00,\n",
       "        1.83654277e+00, -1.18414429e+00, -2.42330544e+00, -2.11960960e+00,\n",
       "       -3.57333011e+00, -5.49873690e+00, -5.97746993e+00, -4.45679776e+00,\n",
       "       -4.28147986e+00, -3.95474324e+00, -1.47695311e+00, -3.85174670e-01,\n",
       "       -1.95633968e+00, -1.35041562e+00,  1.74972605e-01,  1.74486108e+00,\n",
       "        4.02794164e+00,  4.27157901e+00,  2.12800213e+00,  1.75797479e+00,\n",
       "        2.61846818e+00,  1.53089445e+00, -2.97800255e+00, -5.84480145e+00,\n",
       "       -4.18636376e+00, -2.13221943e+00, -1.24363873e+00,  4.37470426e-01,\n",
       "        2.68591542e+00,  1.67281667e+00,  1.39367399e+00,  2.39348342e+00,\n",
       "        2.32457384e+00, -7.28468927e-01, -2.86619287e+00, -2.33720256e+00,\n",
       "        8.55312543e-01,  2.81064753e+00,  1.18882174e+00, -8.26284471e-01,\n",
       "       -1.36529322e+00, -1.45239591e+00, -1.91882262e+00, -1.98857905e+00,\n",
       "       -2.40008883e+00, -3.15957986e+00, -2.02006756e+00, -2.98288068e-01,\n",
       "        1.15152784e+00,  1.52480306e+00,  1.48576648e+00,  1.48071950e-01,\n",
       "       -4.68506784e-01, -4.11288121e-01,  7.46092169e-03, -6.68970101e-01,\n",
       "       -2.63021581e+00, -3.71145483e+00, -2.17681807e+00, -1.06347919e+00,\n",
       "       -1.16401525e+00,  1.86304705e-01,  1.38257112e+00,  7.52709409e-01,\n",
       "        5.45275387e-01,  1.93562308e+00,  2.76131427e+00,  2.39087910e+00,\n",
       "        1.64385043e+00,  1.07895395e+00,  1.70813941e+00,  1.58259873e+00,\n",
       "        3.38817367e-01,  1.21852564e-02,  7.36118471e-01,  6.71797585e-01,\n",
       "        1.62957677e+00,  1.67732238e+00, -1.31690731e+00, -3.24623376e+00,\n",
       "       -3.03167027e+00, -5.74260745e-01,  8.19209637e-01,  1.47304233e+00,\n",
       "        1.62727077e+00,  9.87639395e-02, -5.05268050e-01,  5.47469419e-01,\n",
       "        2.26031115e+00,  2.29074815e+00,  7.01696767e-01,  3.64723015e-01,\n",
       "        1.15810197e+00,  7.79060598e-01, -1.32753309e-01, -1.44046902e+00,\n",
       "       -1.12191970e+00, -1.84090293e-01,  4.13524849e-02, -1.49196678e+00,\n",
       "       -2.06097619e+00, -2.37038574e+00, -3.23947398e+00, -3.01946392e+00,\n",
       "        2.22047968e-01,  3.51955662e+00,  2.51564984e+00, -1.40648633e-01,\n",
       "       -1.83420658e+00, -1.31370808e+00])"
      ]
     },
     "execution_count": 35,
     "metadata": {},
     "output_type": "execute_result"
    }
   ],
   "source": [
    "y = arma_generate_sample(arparams, maparams, nobs)\n",
    "y"
   ]
  },
  {
   "cell_type": "code",
   "execution_count": 36,
   "metadata": {},
   "outputs": [
    {
     "data": {
      "text/plain": [
       "1980-01-31   -0.761837\n",
       "1980-02-29   -1.855291\n",
       "1980-03-31   -3.938224\n",
       "1980-04-30   -4.603543\n",
       "1980-05-31   -3.188442\n",
       "dtype: float64"
      ]
     },
     "execution_count": 36,
     "metadata": {},
     "output_type": "execute_result"
    }
   ],
   "source": [
    "dates = sm.tsa.datetools.dates_from_range('1980m1', length=nobs)\n",
    "y = pd.Series(y, index=dates)\n",
    "y.head()"
   ]
  },
  {
   "cell_type": "code",
   "execution_count": 37,
   "metadata": {},
   "outputs": [
    {
     "data": {
      "text/plain": [
       "2000-06-30    3.519557\n",
       "2000-07-31    2.515650\n",
       "2000-08-31   -0.140649\n",
       "2000-09-30   -1.834207\n",
       "2000-10-31   -1.313708\n",
       "dtype: float64"
      ]
     },
     "execution_count": 37,
     "metadata": {},
     "output_type": "execute_result"
    }
   ],
   "source": [
    "y.tail()"
   ]
  },
  {
   "cell_type": "code",
   "execution_count": 40,
   "metadata": {},
   "outputs": [
    {
     "name": "stderr",
     "output_type": "stream",
     "text": [
      "c:\\users\\reddy\\appdata\\local\\programs\\python\\python36\\lib\\site-packages\\statsmodels\\tsa\\base\\tsa_model.py:162: ValueWarning: No frequency information was provided, so inferred frequency M will be used.\n",
      "  % freq, ValueWarning)\n"
     ]
    },
    {
     "data": {
      "text/plain": [
       "<statsmodels.tsa.arima_model.ARMA at 0x2562cae2898>"
      ]
     },
     "execution_count": 40,
     "metadata": {},
     "output_type": "execute_result"
    }
   ],
   "source": [
    "arma_mod = sm.tsa.ARMA(y, order=(2,2))\n",
    "arma_mod"
   ]
  },
  {
   "cell_type": "code",
   "execution_count": 43,
   "metadata": {},
   "outputs": [
    {
     "data": {
      "text/plain": [
       "<statsmodels.tsa.arima_model.ARMAResultsWrapper at 0x2562d699b38>"
      ]
     },
     "execution_count": 43,
     "metadata": {},
     "output_type": "execute_result"
    }
   ],
   "source": [
    "arma_res = arma_mod.fit(trend='nc', disp=-1)\n",
    "arma_res"
   ]
  },
  {
   "cell_type": "code",
   "execution_count": 46,
   "metadata": {},
   "outputs": [
    {
     "data": {
      "text/html": [
       "<div>\n",
       "<style scoped>\n",
       "    .dataframe tbody tr th:only-of-type {\n",
       "        vertical-align: middle;\n",
       "    }\n",
       "\n",
       "    .dataframe tbody tr th {\n",
       "        vertical-align: top;\n",
       "    }\n",
       "\n",
       "    .dataframe thead th {\n",
       "        text-align: right;\n",
       "    }\n",
       "</style>\n",
       "<table border=\"1\" class=\"dataframe\">\n",
       "  <thead>\n",
       "    <tr style=\"text-align: right;\">\n",
       "      <th></th>\n",
       "      <th>0</th>\n",
       "      <th>1</th>\n",
       "    </tr>\n",
       "  </thead>\n",
       "  <tbody>\n",
       "    <tr>\n",
       "      <th>ar.L1.y</th>\n",
       "      <td>0.273261</td>\n",
       "      <td>0.641200</td>\n",
       "    </tr>\n",
       "    <tr>\n",
       "      <th>ar.L2.y</th>\n",
       "      <td>-0.142938</td>\n",
       "      <td>0.202848</td>\n",
       "    </tr>\n",
       "    <tr>\n",
       "      <th>ma.L1.y</th>\n",
       "      <td>1.224411</td>\n",
       "      <td>1.494849</td>\n",
       "    </tr>\n",
       "    <tr>\n",
       "      <th>ma.L2.y</th>\n",
       "      <td>0.548413</td>\n",
       "      <td>0.791463</td>\n",
       "    </tr>\n",
       "  </tbody>\n",
       "</table>\n",
       "</div>"
      ],
      "text/plain": [
       "                0         1\n",
       "ar.L1.y  0.273261  0.641200\n",
       "ar.L2.y -0.142938  0.202848\n",
       "ma.L1.y  1.224411  1.494849\n",
       "ma.L2.y  0.548413  0.791463"
      ]
     },
     "execution_count": 46,
     "metadata": {},
     "output_type": "execute_result"
    }
   ],
   "source": [
    "arma_res.conf_int()"
   ]
  },
  {
   "cell_type": "code",
   "execution_count": 47,
   "metadata": {},
   "outputs": [
    {
     "name": "stdout",
     "output_type": "stream",
     "text": [
      "                              ARMA Model Results                              \n",
      "==============================================================================\n",
      "Dep. Variable:                      y   No. Observations:                  250\n",
      "Model:                     ARMA(2, 2)   Log Likelihood                -339.620\n",
      "Method:                       css-mle   S.D. of innovations              0.935\n",
      "Date:                Sun, 09 Feb 2020   AIC                            689.240\n",
      "Time:                        17:59:25   BIC                            706.847\n",
      "Sample:                    01-31-1980   HQIC                           696.327\n",
      "                         - 10-31-2000                                         \n",
      "==============================================================================\n",
      "                 coef    std err          z      P>|z|      [0.025      0.975]\n",
      "------------------------------------------------------------------------------\n",
      "ar.L1.y        0.4572      0.094      4.871      0.000       0.273       0.641\n",
      "ar.L2.y        0.0300      0.088      0.340      0.734      -0.143       0.203\n",
      "ma.L1.y        1.3596      0.069     19.707      0.000       1.224       1.495\n",
      "ma.L2.y        0.6699      0.062     10.805      0.000       0.548       0.791\n",
      "                                    Roots                                    \n",
      "=============================================================================\n",
      "                  Real          Imaginary           Modulus         Frequency\n",
      "-----------------------------------------------------------------------------\n",
      "AR.1            1.9404           +0.0000j            1.9404            0.0000\n",
      "AR.2          -17.2045           +0.0000j           17.2045            0.5000\n",
      "MA.1           -1.0147           -0.6804j            1.2218           -0.4060\n",
      "MA.2           -1.0147           +0.6804j            1.2218            0.4060\n",
      "-----------------------------------------------------------------------------\n"
     ]
    }
   ],
   "source": [
    "print(arma_res.summary())"
   ]
  },
  {
   "cell_type": "code",
   "execution_count": 57,
   "metadata": {},
   "outputs": [
    {
     "data": {
      "image/png": "[encoded data removed]",
      "text/plain": [
       "<Figure size 720x576 with 1 Axes>"
      ]
     },
     "metadata": {
      "needs_background": "light"
     },
     "output_type": "display_data"
    }
   ],
   "source": [
    "import matplotlib.pyplot as plt\n",
    "fig, ax = plt.subplots(figsize=(10,8))\n",
    "fig = arma_res.plot_predict(start='1999-06-30', end='2001-05-31', ax=ax)\n",
    "\n",
    "legend = ax.legend(loc='upper left')"
   ]
  },
  {
   "cell_type": "code",
   "execution_count": 56,
   "metadata": {},
   "outputs": [],
   "source": []
  },
  {
   "cell_type": "code",
   "execution_count": null,
   "metadata": {},
   "outputs": [],
   "source": []
  }
 ],
 "metadata": {
  "kernelspec": {
   "display_name": "Python 3",
   "language": "python",
   "name": "python3"
  },
  "language_info": {
   "codemirror_mode": {
    "name": "ipython",
    "version": 3
   },
   "file_extension": ".py",
   "mimetype": "text/x-python",
   "name": "python",
   "nbconvert_exporter": "python",
   "pygments_lexer": "ipython3",
   "version": "3.6.8"
  }
 },
 "nbformat": 4,
 "nbformat_minor": 4
}
